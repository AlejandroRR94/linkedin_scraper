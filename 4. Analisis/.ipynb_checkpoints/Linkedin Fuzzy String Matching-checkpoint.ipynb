{
 "cells": [
  {
   "cell_type": "code",
   "execution_count": 2,
   "id": "85870295",
   "metadata": {},
   "outputs": [
    {
     "name": "stdout",
     "output_type": "stream",
     "text": [
      "Default directory:C:\\Users\\danie\\OneDrive\\Escritorio\\Sabadell\\1. Python Projects\\linkedin_scraper\\4. Analisis\n",
      "New directory:C:\\Users\\danie\\OneDrive\\Escritorio\\Sabadell\\1. Python Projects\\linkedin_scraper\n"
     ]
    }
   ],
   "source": [
    "import os\n",
    "print(f\"Default directory:{os.getcwd()}\")\n",
    "os.chdir(\"..\")\n",
    "print(f\"New directory:{os.getcwd()}\")"
   ]
  },
  {
   "cell_type": "code",
   "execution_count": 3,
   "id": "aba99bab",
   "metadata": {},
   "outputs": [],
   "source": [
    "import pandas as pd\n",
    "import numpy as np\n",
    "import matplotlib.pyplot as plt\n",
    "import sqlite3\n",
    "import plotly.express as px\n",
    "from datetime import date"
   ]
  },
  {
   "cell_type": "code",
   "execution_count": 4,
   "id": "5be488fa",
   "metadata": {},
   "outputs": [],
   "source": [
    "#================================= Load Data ====================================\n",
    "con = sqlite3.connect(r\".\\2. Database\\linkedin_jobpostings.db\")\n",
    "df = pd.read_sql_query(\"SELECT * FROM JOBPOSTINGS\", con)\n",
    "con.close()"
   ]
  },
  {
   "cell_type": "markdown",
   "id": "478b3f21",
   "metadata": {},
   "source": [
    "#### Fuzzy String Matching\n",
    "\n",
    "Fuzzy String Matching, also known as *Approximate String Matching*, is the process of finding strings that approximately match a pattern. The process has various applications such as spell-checking, DNA analysis and detection, spam detection, plagiarism detection e.t.c"
   ]
  },
  {
   "cell_type": "markdown",
   "id": "398c96d8",
   "metadata": {},
   "source": [
    "- Source 1: https://towardsdatascience.com/surprisingly-effective-way-to-name-matching-in-python-1a67328e670e\n",
    "- Source 2: https://towardsdatascience.com/fuzzy-string-matching-in-python-68f240d910fe"
   ]
  },
  {
   "cell_type": "markdown",
   "id": "2887c57e",
   "metadata": {},
   "source": [
    "**Example**"
   ]
  },
  {
   "cell_type": "code",
   "execution_count": 20,
   "id": "88f0aed1",
   "metadata": {},
   "outputs": [
    {
     "data": {
      "text/plain": [
       "array(['Barcelona, Catalonia, Spain',\n",
       "       'San Sebastián, Basque Country, Spain',\n",
       "       'Madrid, Community of Madrid, Spain', 'Málaga, Andalusia, Spain',\n",
       "       'Greater Madrid Metropolitan Area', 'Spain',\n",
       "       'Community of Madrid, Spain', 'Valencian Community, Spain',\n",
       "       'Sant Cugat del Vallès, Catalonia, Spain',\n",
       "       'Greater Barcelona Metropolitan Area',\n",
       "       'Tarragona, Catalonia, Spain',\n",
       "       'Valencia, Valencian Community, Spain',\n",
       "       'El Prat de Llobregat, Catalonia, Spain',\n",
       "       'Palau-solità i Plegamans, Catalonia, Spain',\n",
       "       'Esplugues de Llobregat, Catalonia, Spain',\n",
       "       'Las Rozas de Madrid, Community of Madrid, Spain',\n",
       "       'Seville, Andalusia, Spain',\n",
       "       'Majadahonda, Community of Madrid, Spain', 'Canary Islands, Spain',\n",
       "       'Alicante, Valencian Community, Spain',\n",
       "       'Santander, Cantabria, Spain',\n",
       "       'Greater Palma de Mallorca Metropolitan Area',\n",
       "       'Bilbao-Bilbo, Basque Country, Spain',\n",
       "       'Greater Málaga Metropolitan Area', 'Valls, Catalonia, Spain',\n",
       "       'San Fernando de Henares, Community of Madrid, Spain',\n",
       "       'Greater Lerida Area', 'Vitoria-Gasteiz, Basque Country, Spain',\n",
       "       'Amer, Catalonia, Spain', 'Girona, Catalonia, Spain',\n",
       "       'Zaragoza, Aragon, Spain',\n",
       "       'Tres Cantos, Community of Madrid, Spain',\n",
       "       'Greater Gijón Metropolitan Area', 'Catalonia, Spain',\n",
       "       'Cuarte de Huerva, Aragon, Spain',\n",
       "       'Greater Castellón de la Plana Area', 'Vigo, Galicia, Spain',\n",
       "       'A Coruña, Galicia, Spain', 'Derio, Basque Country, Spain',\n",
       "       'European Union', 'Greater Elche Area',\n",
       "       'Burgos, Castilla and Leon, Spain',\n",
       "       'Navarra, Chartered Community of Navarre, Spain',\n",
       "       'Boadilla del Monte, Community of Madrid, Spain',\n",
       "       'Badajoz, Extremadura, Spain',\n",
       "       'Getafe, Community of Madrid, Spain', 'Greater Tarragona Area',\n",
       "       'Les Borges Blanques, Catalonia, Spain', 'Porriño, Galicia, Spain',\n",
       "       'Greater Mataró Metropolitan Area', 'Castelo, Galicia, Spain',\n",
       "       'Greater Cádiz Metropolitan Area', 'Andalusia, Spain',\n",
       "       'Toledo, Castile-La Mancha, Spain',\n",
       "       'Pamplona, Chartered Community of Navarre, Spain',\n",
       "       'Palma, Balearic Islands, Spain', 'Binéfar, Aragon, Spain',\n",
       "       'Zamudio, Basque Country, Spain', 'Granada, Andalusia, Spain',\n",
       "       'La Roca de la Sierra, Extremadura, Spain',\n",
       "       'Torrecilla en Cameros, Autonomía de La Rioja, Spain',\n",
       "       'Pozuelo de Alarcón, Community of Madrid, Spain',\n",
       "       'Valladolid, Castilla and Leon, Spain',\n",
       "       'León, Castilla and Leon, Spain',\n",
       "       'Pinto, Community of Madrid, Spain',\n",
       "       'Greater Bilbao Metropolitan Area',\n",
       "       'Las Palmas de Gran Canaria, Canary Islands, Spain',\n",
       "       'Basque Country, Spain', 'Murcia, Región de Murcia, Spain',\n",
       "       'Casares, Andalusia, Spain', 'Molins de Rei, Catalonia, Spain'],\n",
       "      dtype=object)"
      ]
     },
     "execution_count": 20,
     "metadata": {},
     "output_type": "execute_result"
    }
   ],
   "source": [
    "df.formattedLocation.unique()"
   ]
  },
  {
   "cell_type": "code",
   "execution_count": 69,
   "id": "739ecd1e",
   "metadata": {},
   "outputs": [],
   "source": [
    "ccaa=[\n",
    "        \"Andalusia\",\n",
    "        \"Aragon\",\n",
    "        \"Asturias\",\n",
    "        \"Balearic Islands\",\n",
    "        \"Basque Country\",\n",
    "        \"Canary Islands\",\n",
    "        \"Cantabria\",\n",
    "        \"Castile and León\",\n",
    "        \"Castilla–La Mancha\",\n",
    "        \"Catalonia\",\n",
    "        \"Community of Madrid\",\n",
    "        \"Extremadura\",\n",
    "        \"Galicia\",\n",
    "        \"La Rioja\",\n",
    "        \"Navarre\",\n",
    "        \"Region of Murcia\",\n",
    "        \"Valencian Community\",\n",
    "\n",
    "]"
   ]
  },
  {
   "cell_type": "markdown",
   "id": "d967c86c",
   "metadata": {},
   "source": [
    "####  Fuzzywuzzy library\n",
    "\n",
    "Fuzzywuzzy is a python library that uses **Levenshtein Distance to calculate the differences between sequences and patterns** that was developed and also open-sourced by SeatGeek, a service that finds event tickets from all over the internet and showcase them on one platform. The big problem they were facing was the labeling of the same events as stated on their blog. This is the same as the example I gave at the beginning of the post where an entity such as a person’s name can be labelled differently on different sources."
   ]
  },
  {
   "cell_type": "code",
   "execution_count": 22,
   "id": "ddc1a90d",
   "metadata": {},
   "outputs": [],
   "source": [
    "from fuzzywuzzy import fuzz, process"
   ]
  },
  {
   "cell_type": "code",
   "execution_count": 73,
   "id": "3d0ff5bc",
   "metadata": {},
   "outputs": [],
   "source": [
    "#Defining a function to return the match and similarity score of the fuzz.ratio() scorer. The function will take in a term(name), list of terms(list_names), and a minimum similarity score(min_score) to return the match. \n",
    "def match_names(name, list_names, min_score=0):\n",
    "    max_score = -1\n",
    "    max_name = ''\n",
    "    for x in list_names:\n",
    "        score = fuzz.partial_ratio(name, x)\n",
    "        if (score > min_score) & (score > max_score):\n",
    "            max_name = x\n",
    "            max_score = score\n",
    "    return (max_name, max_score)"
   ]
  },
  {
   "cell_type": "code",
   "execution_count": 78,
   "id": "6657cd27",
   "metadata": {},
   "outputs": [
    {
     "data": {
      "text/plain": [
       "{'(Barcelona, Catalonia, Spain': 'Catalonia)',\n",
       " '(San Sebastián, Basque Country, Spain': 'Basque Country)',\n",
       " '(Madrid, Community of Madrid, Spain': 'Community of Madrid)',\n",
       " '(Málaga, Andalusia, Spain': 'Andalusia)',\n",
       " '(Community of Madrid, Spain': 'Community of Madrid)',\n",
       " '(Valencian Community, Spain': 'Valencian Community)',\n",
       " '(Sant Cugat del Vallès, Catalonia, Spain': 'Catalonia)',\n",
       " '(Tarragona, Catalonia, Spain': 'Catalonia)',\n",
       " '(Valencia, Valencian Community, Spain': 'Valencian Community)',\n",
       " '(El Prat de Llobregat, Catalonia, Spain': 'Catalonia)',\n",
       " '(Palau-solità i Plegamans, Catalonia, Spain': 'Catalonia)',\n",
       " '(Esplugues de Llobregat, Catalonia, Spain': 'Catalonia)',\n",
       " '(Las Rozas de Madrid, Community of Madrid, Spain': 'Community of Madrid)',\n",
       " '(Seville, Andalusia, Spain': 'Andalusia)',\n",
       " '(Majadahonda, Community of Madrid, Spain': 'Community of Madrid)',\n",
       " '(Canary Islands, Spain': 'Canary Islands)',\n",
       " '(Alicante, Valencian Community, Spain': 'Valencian Community)',\n",
       " '(Santander, Cantabria, Spain': 'Cantabria)',\n",
       " '(Bilbao-Bilbo, Basque Country, Spain': 'Basque Country)',\n",
       " '(Valls, Catalonia, Spain': 'Catalonia)',\n",
       " '(San Fernando de Henares, Community of Madrid, Spain': 'Community of Madrid)',\n",
       " '(Vitoria-Gasteiz, Basque Country, Spain': 'Basque Country)',\n",
       " '(Amer, Catalonia, Spain': 'Catalonia)',\n",
       " '(Girona, Catalonia, Spain': 'Catalonia)',\n",
       " '(Zaragoza, Aragon, Spain': 'Aragon)',\n",
       " '(Tres Cantos, Community of Madrid, Spain': 'Community of Madrid)',\n",
       " '(Catalonia, Spain': 'Catalonia)',\n",
       " '(Cuarte de Huerva, Aragon, Spain': 'Aragon)',\n",
       " '(Vigo, Galicia, Spain': 'Galicia)',\n",
       " '(A Coruña, Galicia, Spain': 'Galicia)',\n",
       " '(Derio, Basque Country, Spain': 'Basque Country)',\n",
       " '(Boadilla del Monte, Community of Madrid, Spain': 'Community of Madrid)',\n",
       " '(Badajoz, Extremadura, Spain': 'Extremadura)',\n",
       " '(Getafe, Community of Madrid, Spain': 'Community of Madrid)',\n",
       " '(Les Borges Blanques, Catalonia, Spain': 'Catalonia)',\n",
       " '(Porriño, Galicia, Spain': 'Galicia)',\n",
       " '(Castelo, Galicia, Spain': 'Galicia)',\n",
       " '(Andalusia, Spain': 'Andalusia)',\n",
       " '(Pamplona, Chartered Community of Navarre, Spain': 'Navarre)',\n",
       " '(Palma, Balearic Islands, Spain': 'Balearic Islands)',\n",
       " '(Binéfar, Aragon, Spain': 'Aragon)',\n",
       " '(Zamudio, Basque Country, Spain': 'Basque Country)',\n",
       " '(Granada, Andalusia, Spain': 'Andalusia)',\n",
       " '(La Roca de la Sierra, Extremadura, Spain': 'Extremadura)',\n",
       " '(Torrecilla en Cameros, Autonomía de La Rioja, Spain': 'La Rioja)',\n",
       " '(Pozuelo de Alarcón, Community of Madrid, Spain': 'Community of Madrid)',\n",
       " '(Pinto, Community of Madrid, Spain': 'Community of Madrid)',\n",
       " '(Las Palmas de Gran Canaria, Canary Islands, Spain': 'Canary Islands)',\n",
       " '(Basque Country, Spain': 'Basque Country)',\n",
       " '(Casares, Andalusia, Spain': 'Andalusia)',\n",
       " '(Molins de Rei, Catalonia, Spain': 'Catalonia)'}"
      ]
     },
     "execution_count": 78,
     "metadata": {},
     "output_type": "execute_result"
    }
   ],
   "source": [
    "#For loop to create a list of tuples with the first value being the name from the second dataframe (name to replace) and the second value from the first dataframe (string replacing the name value). Then, casting the list of tuples as a dictionary. \n",
    "names = []\n",
    "for x in df.formattedLocation:\n",
    "    match = match_names(x, ccaa, 90)\n",
    "    if match[1] >= 75:\n",
    "        name = ('(' + str(x), str(match[0]) + ')')\n",
    "        names.append(name)\n",
    "name_dict = dict(names)\n",
    "name_dict"
   ]
  },
  {
   "cell_type": "code",
   "execution_count": 66,
   "id": "b2a8fbbf",
   "metadata": {},
   "outputs": [
    {
     "data": {
      "text/plain": [
       "[('Madrid, Community of Madrid, Spain', 100),\n",
       " ('Greater Madrid Metropolitan Area', 100),\n",
       " ('Community of Madrid, Spain', 100),\n",
       " ('Las Rozas de Madrid, Community of Madrid, Spain', 100),\n",
       " ('Majadahonda, Community of Madrid, Spain', 100),\n",
       " ('San Fernando de Henares, Community of Madrid, Spain', 100),\n",
       " ('Tres Cantos, Community of Madrid, Spain', 100),\n",
       " ('Boadilla del Monte, Community of Madrid, Spain', 100),\n",
       " ('Getafe, Community of Madrid, Spain', 100),\n",
       " ('Pozuelo de Alarcón, Community of Madrid, Spain', 100),\n",
       " ('Pinto, Community of Madrid, Spain', 100)]"
      ]
     },
     "execution_count": 66,
     "metadata": {},
     "output_type": "execute_result"
    }
   ],
   "source": [
    "process.extractBests('Madrid ',\n",
    "                     df.formattedLocation.unique(),\n",
    "                     scorer=fuzz.partial_ratio,\n",
    "                     score_cutoff=90, limit=None)"
   ]
  },
  {
   "cell_type": "code",
   "execution_count": 79,
   "id": "7612e0aa",
   "metadata": {},
   "outputs": [
    {
     "data": {
      "text/plain": [
       "[('Barcelona, Catalonia, Spain', 100),\n",
       " ('Greater Barcelona Metropolitan Area', 100)]"
      ]
     },
     "execution_count": 79,
     "metadata": {},
     "output_type": "execute_result"
    }
   ],
   "source": [
    "process.extractBests('Barcelona',\n",
    "                     df.formattedLocation.unique(),\n",
    "                     scorer=fuzz.partial_ratio,\n",
    "                     score_cutoff=90, limit=None)"
   ]
  },
  {
   "cell_type": "code",
   "execution_count": null,
   "id": "2ceb4728",
   "metadata": {},
   "outputs": [],
   "source": []
  }
 ],
 "metadata": {
  "kernelspec": {
   "display_name": "Python 3 (ipykernel)",
   "language": "python",
   "name": "python3"
  },
  "language_info": {
   "codemirror_mode": {
    "name": "ipython",
    "version": 3
   },
   "file_extension": ".py",
   "mimetype": "text/x-python",
   "name": "python",
   "nbconvert_exporter": "python",
   "pygments_lexer": "ipython3",
   "version": "3.9.7"
  }
 },
 "nbformat": 4,
 "nbformat_minor": 5
}
